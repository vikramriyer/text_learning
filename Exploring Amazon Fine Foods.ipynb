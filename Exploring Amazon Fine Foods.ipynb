{
 "cells": [
  {
   "cell_type": "markdown",
   "metadata": {},
   "source": [
    "# Summary\n",
    "Let's look at the points that this post will cover: <br>\n",
    "\n",
    "- What is the dataset? <br>\n",
    "- Source of data? <br>\n",
    "- What are the fields? <br>\n",
    "- What is our objective? <br>\n",
    "- Steps to our objective?\n",
    "  - Questions?\n",
    "  - Reading the data\n",
    "  - Descriptive statistics\n",
    "  - Inferential statistics\n",
    "  - Exploratory data analysis\n",
    "    - sql, plots\n",
    "    - pandas, plots\n",
    "    - highlight some important findings\n",
    "  - Machine learning\n",
    "  - Deep learning"
   ]
  },
  {
   "cell_type": "markdown",
   "metadata": {},
   "source": [
    "## What is the dataset about?\n",
    "\n",
    "The dataset has information about customer reviews on Amazon, specifically for food products. <br>"
   ]
  },
  {
   "cell_type": "markdown",
   "metadata": {},
   "source": [
    "## Source of the dataset?\n",
    "\n",
    "The dataset was first published at: http://snap.stanford.edu/data/web-FineFoods.html and has citation by J. McAuley and J. Leskovec named \"From amateurs to connoisseurs: modeling the evolution of user expertise through online reviews.\" and you can read it here: http://i.stanford.edu/~julian/pdfs/www13.pdf"
   ]
  },
  {
   "cell_type": "markdown",
   "metadata": {},
   "source": [
    "## What are the fields?\n",
    "- ProductId (ex. B001E4KFG0)\n",
    "- UserId (ex. A3SGXH7AUHU8GW)\n",
    "- ProfileName (ex. vikramiyer)\n",
    "- HelpfulnessNumerator (ex. 10)\n",
    "- HelpfulnessDenominator (ex. 20)\n",
    "- Time (ex. 1303862400)\n",
    "- Score (ex. 2)\n",
    "- Summary (ex. Bad purchase!)\n",
    "- Text (ex. I was expecting a good one this time as I had tried a different flavour from the same brand, however it sucks)\n",
    "\n",
    "Let me discuss each one of them in detail: <br>\n",
    "**ProductId**: This is a list of computer generated id which is unique per __product__ <br>\n",
    "**UserId**: This is a list of computer generated id which is unique per __user__ <br>\n",
    "**ProfileName**: Name of the user like usernames/profile names we have on github,twitter,facebook, etc <br>\n",
    "**HelpfulnessNumerator**: The count of people who have found the review useful <br>\n",
    "**HelpfulnessDenominator**: The total number of people who have either found the review __useful or not useful__. <br>\n",
    "**Time**: Time when the review was given (this is unix time, we will have to convert into readable format) <br>\n",
    "**Score**: Count in the range 1-5, which meantions the rating of a product where 1 is the lowest and 5 the highest <br>\n",
    "**Summary**: Short summarization of the full length review <br>\n",
    "**Text**: The complete review <br>"
   ]
  },
  {
   "cell_type": "markdown",
   "metadata": {},
   "source": [
    "## What is our objective? <br>\n",
    "By analyzing the above fields, we want to be able to come up with a model which says where a review is positive(good) or not(bad), just looking at the text or summary of the review.\n",
    "\n",
    "In mathematical(conditional probability) terms, <br>\n",
    "P(review=positive|summary,text) = ?, reads probability that a review is positive given summary and/or text\n",
    "\n",
    "If this is not clear yet, don't worry, just keep reading the post and it will be clear somewhere midway!"
   ]
  },
  {
   "cell_type": "markdown",
   "metadata": {},
   "source": [
    "## Steps to our objective?"
   ]
  },
  {
   "cell_type": "markdown",
   "metadata": {},
   "source": [
    "### Questions?\n",
    "- Which product has the max number of reviews?\n",
    "- List down the top 10 products sorted by total number of review in the descending order.\n",
    "- Which review was found to be most helpful?\n",
    "- List down the top 10 reviews sorted by helfulness of the review in the descending order.\n",
    "- Which day of the week has most number of sales?\n",
    "- Which week of the month has more number of sales?\n",
    "- Has any month seen high sales throughout all years?\n",
    "- Has any year seen high sales?\n",
    "- Does helpfulness depend on the length/size of the review?\n",
    "- Do the summary and text have high corelation i.e. do summary and review both have same power in terms of calculating whether a review is positive or negative?\n",
    "- Can we somehow know which type of food has high sales? (ex. pet food, cereals, cornflakes, dairy, etc)\n",
    "- Are the profile names wierd? (ex. bot created)\n",
    "- Distribution of Ratings"
   ]
  },
  {
   "cell_type": "markdown",
   "metadata": {
    "collapsed": true
   },
   "source": [
    "### Reading data"
   ]
  },
  {
   "cell_type": "code",
   "execution_count": 1,
   "metadata": {
    "collapsed": true
   },
   "outputs": [],
   "source": [
    "import pandas as pd\n",
    "import matplotlib.pyplot as plt\n",
    "import seaborn as sns\n",
    "import numpy as np\n",
    "%matplotlib inline"
   ]
  },
  {
   "cell_type": "code",
   "execution_count": 2,
   "metadata": {
    "collapsed": true
   },
   "outputs": [],
   "source": [
    "df = pd.read_csv('Reviews.csv')"
   ]
  },
  {
   "cell_type": "markdown",
   "metadata": {},
   "source": [
    "### Descriptive statistics"
   ]
  },
  {
   "cell_type": "code",
   "execution_count": 3,
   "metadata": {},
   "outputs": [
    {
     "data": {
      "text/html": [
       "<div>\n",
       "<style>\n",
       "    .dataframe thead tr:only-child th {\n",
       "        text-align: right;\n",
       "    }\n",
       "\n",
       "    .dataframe thead th {\n",
       "        text-align: left;\n",
       "    }\n",
       "\n",
       "    .dataframe tbody tr th {\n",
       "        vertical-align: top;\n",
       "    }\n",
       "</style>\n",
       "<table border=\"1\" class=\"dataframe\">\n",
       "  <thead>\n",
       "    <tr style=\"text-align: right;\">\n",
       "      <th></th>\n",
       "      <th>Id</th>\n",
       "      <th>ProductId</th>\n",
       "      <th>UserId</th>\n",
       "      <th>ProfileName</th>\n",
       "      <th>HelpfulnessNumerator</th>\n",
       "      <th>HelpfulnessDenominator</th>\n",
       "      <th>Score</th>\n",
       "      <th>Time</th>\n",
       "      <th>Summary</th>\n",
       "      <th>Text</th>\n",
       "    </tr>\n",
       "  </thead>\n",
       "  <tbody>\n",
       "    <tr>\n",
       "      <th>0</th>\n",
       "      <td>1</td>\n",
       "      <td>B001E4KFG0</td>\n",
       "      <td>A3SGXH7AUHU8GW</td>\n",
       "      <td>delmartian</td>\n",
       "      <td>1</td>\n",
       "      <td>1</td>\n",
       "      <td>5</td>\n",
       "      <td>1303862400</td>\n",
       "      <td>Good Quality Dog Food</td>\n",
       "      <td>I have bought several of the Vitality canned d...</td>\n",
       "    </tr>\n",
       "    <tr>\n",
       "      <th>1</th>\n",
       "      <td>2</td>\n",
       "      <td>B00813GRG4</td>\n",
       "      <td>A1D87F6ZCVE5NK</td>\n",
       "      <td>dll pa</td>\n",
       "      <td>0</td>\n",
       "      <td>0</td>\n",
       "      <td>1</td>\n",
       "      <td>1346976000</td>\n",
       "      <td>Not as Advertised</td>\n",
       "      <td>Product arrived labeled as Jumbo Salted Peanut...</td>\n",
       "    </tr>\n",
       "    <tr>\n",
       "      <th>2</th>\n",
       "      <td>3</td>\n",
       "      <td>B000LQOCH0</td>\n",
       "      <td>ABXLMWJIXXAIN</td>\n",
       "      <td>Natalia Corres \"Natalia Corres\"</td>\n",
       "      <td>1</td>\n",
       "      <td>1</td>\n",
       "      <td>4</td>\n",
       "      <td>1219017600</td>\n",
       "      <td>\"Delight\" says it all</td>\n",
       "      <td>This is a confection that has been around a fe...</td>\n",
       "    </tr>\n",
       "    <tr>\n",
       "      <th>3</th>\n",
       "      <td>4</td>\n",
       "      <td>B000UA0QIQ</td>\n",
       "      <td>A395BORC6FGVXV</td>\n",
       "      <td>Karl</td>\n",
       "      <td>3</td>\n",
       "      <td>3</td>\n",
       "      <td>2</td>\n",
       "      <td>1307923200</td>\n",
       "      <td>Cough Medicine</td>\n",
       "      <td>If you are looking for the secret ingredient i...</td>\n",
       "    </tr>\n",
       "    <tr>\n",
       "      <th>4</th>\n",
       "      <td>5</td>\n",
       "      <td>B006K2ZZ7K</td>\n",
       "      <td>A1UQRSCLF8GW1T</td>\n",
       "      <td>Michael D. Bigham \"M. Wassir\"</td>\n",
       "      <td>0</td>\n",
       "      <td>0</td>\n",
       "      <td>5</td>\n",
       "      <td>1350777600</td>\n",
       "      <td>Great taffy</td>\n",
       "      <td>Great taffy at a great price.  There was a wid...</td>\n",
       "    </tr>\n",
       "  </tbody>\n",
       "</table>\n",
       "</div>"
      ],
      "text/plain": [
       "   Id   ProductId          UserId                      ProfileName  \\\n",
       "0   1  B001E4KFG0  A3SGXH7AUHU8GW                       delmartian   \n",
       "1   2  B00813GRG4  A1D87F6ZCVE5NK                           dll pa   \n",
       "2   3  B000LQOCH0   ABXLMWJIXXAIN  Natalia Corres \"Natalia Corres\"   \n",
       "3   4  B000UA0QIQ  A395BORC6FGVXV                             Karl   \n",
       "4   5  B006K2ZZ7K  A1UQRSCLF8GW1T    Michael D. Bigham \"M. Wassir\"   \n",
       "\n",
       "   HelpfulnessNumerator  HelpfulnessDenominator  Score        Time  \\\n",
       "0                     1                       1      5  1303862400   \n",
       "1                     0                       0      1  1346976000   \n",
       "2                     1                       1      4  1219017600   \n",
       "3                     3                       3      2  1307923200   \n",
       "4                     0                       0      5  1350777600   \n",
       "\n",
       "                 Summary                                               Text  \n",
       "0  Good Quality Dog Food  I have bought several of the Vitality canned d...  \n",
       "1      Not as Advertised  Product arrived labeled as Jumbo Salted Peanut...  \n",
       "2  \"Delight\" says it all  This is a confection that has been around a fe...  \n",
       "3         Cough Medicine  If you are looking for the secret ingredient i...  \n",
       "4            Great taffy  Great taffy at a great price.  There was a wid...  "
      ]
     },
     "execution_count": 3,
     "metadata": {},
     "output_type": "execute_result"
    }
   ],
   "source": [
    "df.head()"
   ]
  },
  {
   "cell_type": "code",
   "execution_count": 4,
   "metadata": {
    "collapsed": true
   },
   "outputs": [],
   "source": [
    "df.columns = ['Id', 'Pid', 'Uid', 'Name', 'HN', 'HD', 'Score', 'Time', 'Summary', 'Text']"
   ]
  },
  {
   "cell_type": "code",
   "execution_count": 5,
   "metadata": {},
   "outputs": [
    {
     "data": {
      "text/html": [
       "<div>\n",
       "<style>\n",
       "    .dataframe thead tr:only-child th {\n",
       "        text-align: right;\n",
       "    }\n",
       "\n",
       "    .dataframe thead th {\n",
       "        text-align: left;\n",
       "    }\n",
       "\n",
       "    .dataframe tbody tr th {\n",
       "        vertical-align: top;\n",
       "    }\n",
       "</style>\n",
       "<table border=\"1\" class=\"dataframe\">\n",
       "  <thead>\n",
       "    <tr style=\"text-align: right;\">\n",
       "      <th></th>\n",
       "      <th>HN</th>\n",
       "      <th>HD</th>\n",
       "      <th>Score</th>\n",
       "    </tr>\n",
       "  </thead>\n",
       "  <tbody>\n",
       "    <tr>\n",
       "      <th>count</th>\n",
       "      <td>568454.000000</td>\n",
       "      <td>568454.00000</td>\n",
       "      <td>568454.000000</td>\n",
       "    </tr>\n",
       "    <tr>\n",
       "      <th>mean</th>\n",
       "      <td>1.743817</td>\n",
       "      <td>2.22881</td>\n",
       "      <td>4.183199</td>\n",
       "    </tr>\n",
       "    <tr>\n",
       "      <th>std</th>\n",
       "      <td>7.636513</td>\n",
       "      <td>8.28974</td>\n",
       "      <td>1.310436</td>\n",
       "    </tr>\n",
       "    <tr>\n",
       "      <th>min</th>\n",
       "      <td>0.000000</td>\n",
       "      <td>0.00000</td>\n",
       "      <td>1.000000</td>\n",
       "    </tr>\n",
       "    <tr>\n",
       "      <th>25%</th>\n",
       "      <td>0.000000</td>\n",
       "      <td>0.00000</td>\n",
       "      <td>4.000000</td>\n",
       "    </tr>\n",
       "    <tr>\n",
       "      <th>50%</th>\n",
       "      <td>0.000000</td>\n",
       "      <td>1.00000</td>\n",
       "      <td>5.000000</td>\n",
       "    </tr>\n",
       "    <tr>\n",
       "      <th>75%</th>\n",
       "      <td>2.000000</td>\n",
       "      <td>2.00000</td>\n",
       "      <td>5.000000</td>\n",
       "    </tr>\n",
       "    <tr>\n",
       "      <th>max</th>\n",
       "      <td>866.000000</td>\n",
       "      <td>923.00000</td>\n",
       "      <td>5.000000</td>\n",
       "    </tr>\n",
       "  </tbody>\n",
       "</table>\n",
       "</div>"
      ],
      "text/plain": [
       "                  HN            HD          Score\n",
       "count  568454.000000  568454.00000  568454.000000\n",
       "mean        1.743817       2.22881       4.183199\n",
       "std         7.636513       8.28974       1.310436\n",
       "min         0.000000       0.00000       1.000000\n",
       "25%         0.000000       0.00000       4.000000\n",
       "50%         0.000000       1.00000       5.000000\n",
       "75%         2.000000       2.00000       5.000000\n",
       "max       866.000000     923.00000       5.000000"
      ]
     },
     "execution_count": 5,
     "metadata": {},
     "output_type": "execute_result"
    }
   ],
   "source": [
    "#df['time'] = df.Time.apply(lambda x: datetime.datetime.fromtimestamp(int(x)).strftime('%Y-%m-%d %H:%M:%S'))\n",
    "df['date'] = pd.to_datetime(df['Time'], unit='s')\n",
    "df.drop(['Time','Id'], axis=1, inplace=True)\n",
    "df.describe()"
   ]
  },
  {
   "cell_type": "markdown",
   "metadata": {},
   "source": [
    "**Q. Which product has the max number of reviews? ** <br>\n",
    "**Q. List down top 10 products ** <br>"
   ]
  },
  {
   "cell_type": "markdown",
   "metadata": {},
   "source": [
    "Since we have the entire dataset in which there can be multiple entries of a product, we will first have to group the entire dataset by Pid (product id) and then count the number of reviews of the top product."
   ]
  },
  {
   "cell_type": "code",
   "execution_count": 6,
   "metadata": {
    "collapsed": true
   },
   "outputs": [],
   "source": [
    "group_by_product_id = df.groupby('Pid')"
   ]
  },
  {
   "cell_type": "code",
   "execution_count": 7,
   "metadata": {
    "collapsed": true
   },
   "outputs": [],
   "source": [
    "products_counts = pd.DataFrame(group_by_product_id.agg('count').join(pd.DataFrame(group_by_product_id.size(), columns=['Count']))['Count'])"
   ]
  },
  {
   "cell_type": "code",
   "execution_count": 8,
   "metadata": {},
   "outputs": [
    {
     "data": {
      "text/html": [
       "<div>\n",
       "<style>\n",
       "    .dataframe thead tr:only-child th {\n",
       "        text-align: right;\n",
       "    }\n",
       "\n",
       "    .dataframe thead th {\n",
       "        text-align: left;\n",
       "    }\n",
       "\n",
       "    .dataframe tbody tr th {\n",
       "        vertical-align: top;\n",
       "    }\n",
       "</style>\n",
       "<table border=\"1\" class=\"dataframe\">\n",
       "  <thead>\n",
       "    <tr style=\"text-align: right;\">\n",
       "      <th></th>\n",
       "      <th>Count</th>\n",
       "    </tr>\n",
       "    <tr>\n",
       "      <th>Pid</th>\n",
       "      <th></th>\n",
       "    </tr>\n",
       "  </thead>\n",
       "  <tbody>\n",
       "    <tr>\n",
       "      <th>B007JFMH8M</th>\n",
       "      <td>913</td>\n",
       "    </tr>\n",
       "    <tr>\n",
       "      <th>B0026RQTGE</th>\n",
       "      <td>632</td>\n",
       "    </tr>\n",
       "    <tr>\n",
       "      <th>B002QWHJOU</th>\n",
       "      <td>632</td>\n",
       "    </tr>\n",
       "    <tr>\n",
       "      <th>B002QWP89S</th>\n",
       "      <td>632</td>\n",
       "    </tr>\n",
       "    <tr>\n",
       "      <th>B002QWP8H0</th>\n",
       "      <td>632</td>\n",
       "    </tr>\n",
       "    <tr>\n",
       "      <th>B003B3OOPA</th>\n",
       "      <td>623</td>\n",
       "    </tr>\n",
       "    <tr>\n",
       "      <th>B001EO5Q64</th>\n",
       "      <td>567</td>\n",
       "    </tr>\n",
       "    <tr>\n",
       "      <th>B0026KPDG8</th>\n",
       "      <td>564</td>\n",
       "    </tr>\n",
       "    <tr>\n",
       "      <th>B000VK8AVK</th>\n",
       "      <td>564</td>\n",
       "    </tr>\n",
       "    <tr>\n",
       "      <th>B006HYLW32</th>\n",
       "      <td>564</td>\n",
       "    </tr>\n",
       "  </tbody>\n",
       "</table>\n",
       "</div>"
      ],
      "text/plain": [
       "            Count\n",
       "Pid              \n",
       "B007JFMH8M    913\n",
       "B0026RQTGE    632\n",
       "B002QWHJOU    632\n",
       "B002QWP89S    632\n",
       "B002QWP8H0    632\n",
       "B003B3OOPA    623\n",
       "B001EO5Q64    567\n",
       "B0026KPDG8    564\n",
       "B000VK8AVK    564\n",
       "B006HYLW32    564"
      ]
     },
     "execution_count": 8,
     "metadata": {},
     "output_type": "execute_result"
    }
   ],
   "source": [
    "products_counts.sort_values('Count', ascending=False).head(10)"
   ]
  },
  {
   "cell_type": "markdown",
   "metadata": {},
   "source": [
    "This is some high number of reviews, let's check what this product is!"
   ]
  },
  {
   "cell_type": "code",
   "execution_count": 9,
   "metadata": {},
   "outputs": [
    {
     "name": "stdout",
     "output_type": "stream",
     "text": [
      "               Pid             Uid  \\\n",
      "562970  B007JFMH8M  A368Z46FIKHSEZ   \n",
      "562971  B007JFMH8M  A1JAPP1CXRG57A   \n",
      "562972  B007JFMH8M  A2Z9JNXPIEL2B9   \n",
      "562973  B007JFMH8M  A31CYJQO3FL586   \n",
      "562974  B007JFMH8M  A2KXQ2EKFF3K2G   \n",
      "\n",
      "                                              Name  HN  HD  Score  \\\n",
      "562970          jaimoi \"Appreciator of good music\"   0   0      5   \n",
      "562971  Linda Painchaud-Steinman \"PARK EDGE BOOKS\"   0   0      5   \n",
      "562972                                  carwash169   0   0      5   \n",
      "562973                       P. Titus \"Knitgirlll\"   0   0      5   \n",
      "562974                                     Jessica   0   0      5   \n",
      "\n",
      "                                                  Summary  \\\n",
      "562970                                         Delicious!   \n",
      "562971                              Great Anytime of Day!   \n",
      "562972                                         Very good!   \n",
      "562973  Quaker Oats Oatmeal Raisin Mom Voxbox Review C...   \n",
      "562974      Quick, simple HEALTHY snack for the kiddos!!!   \n",
      "\n",
      "                                                     Text       date  \n",
      "562970  I love these cookies!  Not only are they healt... 2012-07-28  \n",
      "562971  Quaker Soft Baked Oatmeal Cookies with raisins... 2012-07-28  \n",
      "562972  I am usually not a huge fan of oatmeal cookies... 2012-07-28  \n",
      "562973  I participated in a product review that includ... 2012-07-28  \n",
      "562974  My kids loved these. I was very pleased to giv... 2012-07-28  \n"
     ]
    }
   ],
   "source": [
    "print df[df['Pid'] == 'B007JFMH8M'].head(5)"
   ]
  },
  {
   "cell_type": "markdown",
   "metadata": {},
   "source": [
    "People seem to love cookies more than any other food :)"
   ]
  },
  {
   "cell_type": "markdown",
   "metadata": {},
   "source": [
    "Aanother thing to note is that 4 products have same number of reviews, let's see if this is a coincidence or something has really gone wrong!"
   ]
  },
  {
   "cell_type": "code",
   "execution_count": 10,
   "metadata": {},
   "outputs": [
    {
     "name": "stdout",
     "output_type": "stream",
     "text": [
      "355503    my 12 year old sheltie has chronic brochotitis...\n",
      "Name: Text, dtype: object\n",
      "20982    my 12 year old sheltie has chronic brochotitis...\n",
      "Name: Text, dtype: object\n",
      "329412    my 12 year old sheltie has chronic brochotitis...\n",
      "Name: Text, dtype: object\n",
      "74631    my 12 year old sheltie has chronic brochotitis...\n",
      "Name: Text, dtype: object\n"
     ]
    }
   ],
   "source": [
    "print df[df['Pid'] == 'B002QWP8H0']['Text'].head(1)\n",
    "print df[df['Pid'] == 'B002QWP89S']['Text'].head(1)\n",
    "print df[df['Pid'] == 'B002QWHJOU']['Text'].head(1)\n",
    "print df[df['Pid'] == 'B0026RQTGE']['Text'].head(1)\n",
    "#(df['Pid'] == 'B002QWP89S') | (df['Pid'] == 'B002QWHJOU') | (df['Pid'] == 'B0026RQTGE')]"
   ]
  },
  {
   "cell_type": "markdown",
   "metadata": {},
   "source": [
    "Here is the catch, if you search these products on the amazon site, all are the same products with maybe different colors, flavours, etc"
   ]
  },
  {
   "cell_type": "code",
   "execution_count": 11,
   "metadata": {},
   "outputs": [
    {
     "data": {
      "text/html": [
       "<div>\n",
       "<style>\n",
       "    .dataframe thead tr:only-child th {\n",
       "        text-align: right;\n",
       "    }\n",
       "\n",
       "    .dataframe thead th {\n",
       "        text-align: left;\n",
       "    }\n",
       "\n",
       "    .dataframe tbody tr th {\n",
       "        vertical-align: top;\n",
       "    }\n",
       "</style>\n",
       "<table border=\"1\" class=\"dataframe\">\n",
       "  <thead>\n",
       "    <tr style=\"text-align: right;\">\n",
       "      <th></th>\n",
       "      <th>Pid</th>\n",
       "      <th>Uid</th>\n",
       "      <th>Name</th>\n",
       "      <th>HN</th>\n",
       "      <th>HD</th>\n",
       "      <th>Score</th>\n",
       "      <th>Summary</th>\n",
       "      <th>Text</th>\n",
       "      <th>date</th>\n",
       "    </tr>\n",
       "  </thead>\n",
       "  <tbody>\n",
       "    <tr>\n",
       "      <th>563070</th>\n",
       "      <td>B007JFMH8M</td>\n",
       "      <td>A1AJY4M502J8YY</td>\n",
       "      <td>mc25monini</td>\n",
       "      <td>5</td>\n",
       "      <td>5</td>\n",
       "      <td>5</td>\n",
       "      <td>Delicious</td>\n",
       "      <td>Ok so I love oatmeal cookies they are amazing....</td>\n",
       "      <td>2012-07-16</td>\n",
       "    </tr>\n",
       "    <tr>\n",
       "      <th>563071</th>\n",
       "      <td>B007JFMH8M</td>\n",
       "      <td>AZFX7FLEHCWXM</td>\n",
       "      <td>Mary G. Longorio \"Texasbookgirl\"</td>\n",
       "      <td>3</td>\n",
       "      <td>3</td>\n",
       "      <td>3</td>\n",
       "      <td>Not bad, not great</td>\n",
       "      <td>I love oatmeal raisin cookies, really love the...</td>\n",
       "      <td>2012-07-28</td>\n",
       "    </tr>\n",
       "  </tbody>\n",
       "</table>\n",
       "</div>"
      ],
      "text/plain": [
       "               Pid             Uid                              Name  HN  HD  \\\n",
       "563070  B007JFMH8M  A1AJY4M502J8YY                        mc25monini   5   5   \n",
       "563071  B007JFMH8M   AZFX7FLEHCWXM  Mary G. Longorio \"Texasbookgirl\"   3   3   \n",
       "\n",
       "        Score             Summary  \\\n",
       "563070      5           Delicious   \n",
       "563071      3  Not bad, not great   \n",
       "\n",
       "                                                     Text       date  \n",
       "563070  Ok so I love oatmeal cookies they are amazing.... 2012-07-16  \n",
       "563071  I love oatmeal raisin cookies, really love the... 2012-07-28  "
      ]
     },
     "execution_count": 11,
     "metadata": {},
     "output_type": "execute_result"
    }
   ],
   "source": [
    "df[(df['Pid'] == 'B007JFMH8M') & (df['HN'] > 0)].head(2)"
   ]
  },
  {
   "cell_type": "code",
   "execution_count": 12,
   "metadata": {},
   "outputs": [
    {
     "data": {
      "text/html": [
       "<div>\n",
       "<style>\n",
       "    .dataframe thead tr:only-child th {\n",
       "        text-align: right;\n",
       "    }\n",
       "\n",
       "    .dataframe thead th {\n",
       "        text-align: left;\n",
       "    }\n",
       "\n",
       "    .dataframe tbody tr th {\n",
       "        vertical-align: top;\n",
       "    }\n",
       "</style>\n",
       "<table border=\"1\" class=\"dataframe\">\n",
       "  <thead>\n",
       "    <tr style=\"text-align: right;\">\n",
       "      <th></th>\n",
       "      <th>Pid</th>\n",
       "      <th>Uid</th>\n",
       "      <th>Name</th>\n",
       "      <th>HN</th>\n",
       "      <th>HD</th>\n",
       "      <th>Score</th>\n",
       "      <th>Summary</th>\n",
       "      <th>Text</th>\n",
       "      <th>date</th>\n",
       "    </tr>\n",
       "  </thead>\n",
       "  <tbody>\n",
       "    <tr>\n",
       "      <th>150523</th>\n",
       "      <td>0006641040</td>\n",
       "      <td>ACITT7DI6IDDL</td>\n",
       "      <td>shari zychinski</td>\n",
       "      <td>0</td>\n",
       "      <td>0</td>\n",
       "      <td>5</td>\n",
       "      <td>EVERY book is educational</td>\n",
       "      <td>this witty little book makes my son laugh at l...</td>\n",
       "      <td>1999-10-08</td>\n",
       "    </tr>\n",
       "    <tr>\n",
       "      <th>150500</th>\n",
       "      <td>0006641040</td>\n",
       "      <td>AJ46FKXOVC7NR</td>\n",
       "      <td>Nicholas A Mesiano</td>\n",
       "      <td>2</td>\n",
       "      <td>2</td>\n",
       "      <td>5</td>\n",
       "      <td>This whole series is great way to spend time w...</td>\n",
       "      <td>I can remember seeing the show when it aired o...</td>\n",
       "      <td>1999-10-25</td>\n",
       "    </tr>\n",
       "    <tr>\n",
       "      <th>451855</th>\n",
       "      <td>B00004CXX9</td>\n",
       "      <td>AIUWLEQ1ADEG5</td>\n",
       "      <td>Elizabeth Medina</td>\n",
       "      <td>0</td>\n",
       "      <td>0</td>\n",
       "      <td>5</td>\n",
       "      <td>Entertainingl Funny!</td>\n",
       "      <td>Beetlejuice is a well written movie ..... ever...</td>\n",
       "      <td>1999-12-02</td>\n",
       "    </tr>\n",
       "    <tr>\n",
       "      <th>230284</th>\n",
       "      <td>B00004RYGX</td>\n",
       "      <td>A344SMIA5JECGM</td>\n",
       "      <td>Vincent P. Ross</td>\n",
       "      <td>1</td>\n",
       "      <td>2</td>\n",
       "      <td>5</td>\n",
       "      <td>A modern day fairy tale</td>\n",
       "      <td>A twist of rumplestiskin captured on film, sta...</td>\n",
       "      <td>1999-12-06</td>\n",
       "    </tr>\n",
       "    <tr>\n",
       "      <th>451877</th>\n",
       "      <td>B00004CXX9</td>\n",
       "      <td>A344SMIA5JECGM</td>\n",
       "      <td>Vincent P. Ross</td>\n",
       "      <td>1</td>\n",
       "      <td>2</td>\n",
       "      <td>5</td>\n",
       "      <td>A modern day fairy tale</td>\n",
       "      <td>A twist of rumplestiskin captured on film, sta...</td>\n",
       "      <td>1999-12-06</td>\n",
       "    </tr>\n",
       "    <tr>\n",
       "      <th>374358</th>\n",
       "      <td>B00004CI84</td>\n",
       "      <td>A344SMIA5JECGM</td>\n",
       "      <td>Vincent P. Ross</td>\n",
       "      <td>1</td>\n",
       "      <td>2</td>\n",
       "      <td>5</td>\n",
       "      <td>A modern day fairy tale</td>\n",
       "      <td>A twist of rumplestiskin captured on film, sta...</td>\n",
       "      <td>1999-12-06</td>\n",
       "    </tr>\n",
       "    <tr>\n",
       "      <th>451854</th>\n",
       "      <td>B00004CXX9</td>\n",
       "      <td>AJH6LUC1UT1ON</td>\n",
       "      <td>The Phantom of the Opera</td>\n",
       "      <td>0</td>\n",
       "      <td>0</td>\n",
       "      <td>5</td>\n",
       "      <td>FANTASTIC!</td>\n",
       "      <td>Beetlejuice is an excellent and funny movie. K...</td>\n",
       "      <td>2000-01-03</td>\n",
       "    </tr>\n",
       "    <tr>\n",
       "      <th>374421</th>\n",
       "      <td>B00004CI84</td>\n",
       "      <td>A1048CYU0OV4O8</td>\n",
       "      <td>Judy L. Eans</td>\n",
       "      <td>2</td>\n",
       "      <td>2</td>\n",
       "      <td>5</td>\n",
       "      <td>GREAT</td>\n",
       "      <td>THIS IS ONE MOVIE THAT SHOULD BE IN YOUR MOVIE...</td>\n",
       "      <td>2000-01-09</td>\n",
       "    </tr>\n",
       "    <tr>\n",
       "      <th>451948</th>\n",
       "      <td>B00004CXX9</td>\n",
       "      <td>A1048CYU0OV4O8</td>\n",
       "      <td>Judy L. Eans</td>\n",
       "      <td>2</td>\n",
       "      <td>2</td>\n",
       "      <td>5</td>\n",
       "      <td>GREAT</td>\n",
       "      <td>THIS IS ONE MOVIE THAT SHOULD BE IN YOUR MOVIE...</td>\n",
       "      <td>2000-01-09</td>\n",
       "    </tr>\n",
       "    <tr>\n",
       "      <th>230347</th>\n",
       "      <td>B00004RYGX</td>\n",
       "      <td>A1048CYU0OV4O8</td>\n",
       "      <td>Judy L. Eans</td>\n",
       "      <td>2</td>\n",
       "      <td>2</td>\n",
       "      <td>5</td>\n",
       "      <td>GREAT</td>\n",
       "      <td>THIS IS ONE MOVIE THAT SHOULD BE IN YOUR MOVIE...</td>\n",
       "      <td>2000-01-09</td>\n",
       "    </tr>\n",
       "    <tr>\n",
       "      <th>451863</th>\n",
       "      <td>B00004CXX9</td>\n",
       "      <td>A1B2IZU1JLZA6</td>\n",
       "      <td>Wes</td>\n",
       "      <td>19</td>\n",
       "      <td>23</td>\n",
       "      <td>1</td>\n",
       "      <td>WARNING: CLAMSHELL EDITION IS EDITED TV VERSION</td>\n",
       "      <td>I, myself always enjoyed this movie, it's very...</td>\n",
       "      <td>2000-01-19</td>\n",
       "    </tr>\n",
       "    <tr>\n",
       "      <th>230268</th>\n",
       "      <td>B00004RYGX</td>\n",
       "      <td>A1B2IZU1JLZA6</td>\n",
       "      <td>Wes</td>\n",
       "      <td>19</td>\n",
       "      <td>23</td>\n",
       "      <td>1</td>\n",
       "      <td>WARNING: CLAMSHELL EDITION IS EDITED TV VERSION</td>\n",
       "      <td>I, myself always enjoyed this movie, it's very...</td>\n",
       "      <td>2000-01-19</td>\n",
       "    </tr>\n",
       "    <tr>\n",
       "      <th>374342</th>\n",
       "      <td>B00004CI84</td>\n",
       "      <td>A1B2IZU1JLZA6</td>\n",
       "      <td>Wes</td>\n",
       "      <td>19</td>\n",
       "      <td>23</td>\n",
       "      <td>1</td>\n",
       "      <td>WARNING: CLAMSHELL EDITION IS EDITED TV VERSION</td>\n",
       "      <td>I, myself always enjoyed this movie, it's very...</td>\n",
       "      <td>2000-01-19</td>\n",
       "    </tr>\n",
       "    <tr>\n",
       "      <th>76881</th>\n",
       "      <td>B00002N8SM</td>\n",
       "      <td>A32DW342WBJ6BX</td>\n",
       "      <td>Buttersugar</td>\n",
       "      <td>0</td>\n",
       "      <td>0</td>\n",
       "      <td>5</td>\n",
       "      <td>A sure death for flies</td>\n",
       "      <td>I bought a few of these after my apartment was...</td>\n",
       "      <td>2000-01-24</td>\n",
       "    </tr>\n",
       "    <tr>\n",
       "      <th>230375</th>\n",
       "      <td>B00004RYGX</td>\n",
       "      <td>ACJR7EQF9S6FP</td>\n",
       "      <td>Jeremy Robertson</td>\n",
       "      <td>2</td>\n",
       "      <td>3</td>\n",
       "      <td>4</td>\n",
       "      <td>Bettlejuice...Bettlejuice...BETTLEJUICE!</td>\n",
       "      <td>What happens when you say his name three times...</td>\n",
       "      <td>2000-02-26</td>\n",
       "    </tr>\n",
       "    <tr>\n",
       "      <th>451976</th>\n",
       "      <td>B00004CXX9</td>\n",
       "      <td>ACJR7EQF9S6FP</td>\n",
       "      <td>Jeremy Robertson</td>\n",
       "      <td>2</td>\n",
       "      <td>3</td>\n",
       "      <td>4</td>\n",
       "      <td>Bettlejuice...Bettlejuice...BETTLEJUICE!</td>\n",
       "      <td>What happens when you say his name three times...</td>\n",
       "      <td>2000-02-26</td>\n",
       "    </tr>\n",
       "    <tr>\n",
       "      <th>374449</th>\n",
       "      <td>B00004CI84</td>\n",
       "      <td>ACJR7EQF9S6FP</td>\n",
       "      <td>Jeremy Robertson</td>\n",
       "      <td>2</td>\n",
       "      <td>3</td>\n",
       "      <td>4</td>\n",
       "      <td>Bettlejuice...Bettlejuice...BETTLEJUICE!</td>\n",
       "      <td>What happens when you say his name three times...</td>\n",
       "      <td>2000-02-26</td>\n",
       "    </tr>\n",
       "    <tr>\n",
       "      <th>374399</th>\n",
       "      <td>B00004CI84</td>\n",
       "      <td>A2DEE7F9XKP3ZR</td>\n",
       "      <td>jerome</td>\n",
       "      <td>0</td>\n",
       "      <td>3</td>\n",
       "      <td>5</td>\n",
       "      <td>Research - Beatlejuice video - French version</td>\n",
       "      <td>I'm getting crazy.I'm looking for Beatlejuice ...</td>\n",
       "      <td>2000-06-03</td>\n",
       "    </tr>\n",
       "    <tr>\n",
       "      <th>451902</th>\n",
       "      <td>B00004CXX9</td>\n",
       "      <td>A2DEE7F9XKP3ZR</td>\n",
       "      <td>jerome</td>\n",
       "      <td>0</td>\n",
       "      <td>1</td>\n",
       "      <td>5</td>\n",
       "      <td>Research</td>\n",
       "      <td>I'm getting crazy.&lt;p&gt;Is it really impossible t...</td>\n",
       "      <td>2000-06-03</td>\n",
       "    </tr>\n",
       "    <tr>\n",
       "      <th>230325</th>\n",
       "      <td>B00004RYGX</td>\n",
       "      <td>A2DEE7F9XKP3ZR</td>\n",
       "      <td>jerome</td>\n",
       "      <td>0</td>\n",
       "      <td>3</td>\n",
       "      <td>5</td>\n",
       "      <td>Research - Beatlejuice video - French version</td>\n",
       "      <td>I'm getting crazy.I'm looking for Beatlejuice ...</td>\n",
       "      <td>2000-06-03</td>\n",
       "    </tr>\n",
       "  </tbody>\n",
       "</table>\n",
       "</div>"
      ],
      "text/plain": [
       "               Pid             Uid                      Name  HN  HD  Score  \\\n",
       "150523  0006641040   ACITT7DI6IDDL           shari zychinski   0   0      5   \n",
       "150500  0006641040   AJ46FKXOVC7NR        Nicholas A Mesiano   2   2      5   \n",
       "451855  B00004CXX9   AIUWLEQ1ADEG5          Elizabeth Medina   0   0      5   \n",
       "230284  B00004RYGX  A344SMIA5JECGM           Vincent P. Ross   1   2      5   \n",
       "451877  B00004CXX9  A344SMIA5JECGM           Vincent P. Ross   1   2      5   \n",
       "374358  B00004CI84  A344SMIA5JECGM           Vincent P. Ross   1   2      5   \n",
       "451854  B00004CXX9   AJH6LUC1UT1ON  The Phantom of the Opera   0   0      5   \n",
       "374421  B00004CI84  A1048CYU0OV4O8              Judy L. Eans   2   2      5   \n",
       "451948  B00004CXX9  A1048CYU0OV4O8              Judy L. Eans   2   2      5   \n",
       "230347  B00004RYGX  A1048CYU0OV4O8              Judy L. Eans   2   2      5   \n",
       "451863  B00004CXX9   A1B2IZU1JLZA6                       Wes  19  23      1   \n",
       "230268  B00004RYGX   A1B2IZU1JLZA6                       Wes  19  23      1   \n",
       "374342  B00004CI84   A1B2IZU1JLZA6                       Wes  19  23      1   \n",
       "76881   B00002N8SM  A32DW342WBJ6BX               Buttersugar   0   0      5   \n",
       "230375  B00004RYGX   ACJR7EQF9S6FP          Jeremy Robertson   2   3      4   \n",
       "451976  B00004CXX9   ACJR7EQF9S6FP          Jeremy Robertson   2   3      4   \n",
       "374449  B00004CI84   ACJR7EQF9S6FP          Jeremy Robertson   2   3      4   \n",
       "374399  B00004CI84  A2DEE7F9XKP3ZR                    jerome   0   3      5   \n",
       "451902  B00004CXX9  A2DEE7F9XKP3ZR                    jerome   0   1      5   \n",
       "230325  B00004RYGX  A2DEE7F9XKP3ZR                    jerome   0   3      5   \n",
       "\n",
       "                                                  Summary  \\\n",
       "150523                          EVERY book is educational   \n",
       "150500  This whole series is great way to spend time w...   \n",
       "451855                               Entertainingl Funny!   \n",
       "230284                            A modern day fairy tale   \n",
       "451877                            A modern day fairy tale   \n",
       "374358                            A modern day fairy tale   \n",
       "451854                                         FANTASTIC!   \n",
       "374421                                              GREAT   \n",
       "451948                                              GREAT   \n",
       "230347                                              GREAT   \n",
       "451863    WARNING: CLAMSHELL EDITION IS EDITED TV VERSION   \n",
       "230268    WARNING: CLAMSHELL EDITION IS EDITED TV VERSION   \n",
       "374342    WARNING: CLAMSHELL EDITION IS EDITED TV VERSION   \n",
       "76881                              A sure death for flies   \n",
       "230375           Bettlejuice...Bettlejuice...BETTLEJUICE!   \n",
       "451976           Bettlejuice...Bettlejuice...BETTLEJUICE!   \n",
       "374449           Bettlejuice...Bettlejuice...BETTLEJUICE!   \n",
       "374399      Research - Beatlejuice video - French version   \n",
       "451902                                           Research   \n",
       "230325      Research - Beatlejuice video - French version   \n",
       "\n",
       "                                                     Text       date  \n",
       "150523  this witty little book makes my son laugh at l... 1999-10-08  \n",
       "150500  I can remember seeing the show when it aired o... 1999-10-25  \n",
       "451855  Beetlejuice is a well written movie ..... ever... 1999-12-02  \n",
       "230284  A twist of rumplestiskin captured on film, sta... 1999-12-06  \n",
       "451877  A twist of rumplestiskin captured on film, sta... 1999-12-06  \n",
       "374358  A twist of rumplestiskin captured on film, sta... 1999-12-06  \n",
       "451854  Beetlejuice is an excellent and funny movie. K... 2000-01-03  \n",
       "374421  THIS IS ONE MOVIE THAT SHOULD BE IN YOUR MOVIE... 2000-01-09  \n",
       "451948  THIS IS ONE MOVIE THAT SHOULD BE IN YOUR MOVIE... 2000-01-09  \n",
       "230347  THIS IS ONE MOVIE THAT SHOULD BE IN YOUR MOVIE... 2000-01-09  \n",
       "451863  I, myself always enjoyed this movie, it's very... 2000-01-19  \n",
       "230268  I, myself always enjoyed this movie, it's very... 2000-01-19  \n",
       "374342  I, myself always enjoyed this movie, it's very... 2000-01-19  \n",
       "76881   I bought a few of these after my apartment was... 2000-01-24  \n",
       "230375  What happens when you say his name three times... 2000-02-26  \n",
       "451976  What happens when you say his name three times... 2000-02-26  \n",
       "374449  What happens when you say his name three times... 2000-02-26  \n",
       "374399  I'm getting crazy.I'm looking for Beatlejuice ... 2000-06-03  \n",
       "451902  I'm getting crazy.<p>Is it really impossible t... 2000-06-03  \n",
       "230325  I'm getting crazy.I'm looking for Beatlejuice ... 2000-06-03  "
      ]
     },
     "execution_count": 12,
     "metadata": {},
     "output_type": "execute_result"
    }
   ],
   "source": [
    "df.sort_values('date', ascending=True).head(20)"
   ]
  },
  {
   "cell_type": "markdown",
   "metadata": {},
   "source": [
    "Looks like Books and Movies are also foods :) <br>\n",
    "This means, this data has not only info on foods but also the other products than Amazon sold (books, movies being the evident ones!) <br>\n",
    "We will have to clean such data so that are predictions are more accurate :)"
   ]
  },
  {
   "cell_type": "markdown",
   "metadata": {},
   "source": [
    "Let's see how the number of reviews have increased with the passing years!"
   ]
  },
  {
   "cell_type": "code",
   "execution_count": 13,
   "metadata": {
    "collapsed": true
   },
   "outputs": [],
   "source": [
    "group_by_date = df.groupby('date')"
   ]
  },
  {
   "cell_type": "code",
   "execution_count": 14,
   "metadata": {
    "collapsed": true
   },
   "outputs": [],
   "source": [
    "date_counts = pd.DataFrame(group_by_date.agg('count').join(pd.DataFrame(group_by_date.size(), columns=['Count']))['Count'])"
   ]
  },
  {
   "cell_type": "code",
   "execution_count": 15,
   "metadata": {},
   "outputs": [
    {
     "data": {
      "text/html": [
       "<div>\n",
       "<style>\n",
       "    .dataframe thead tr:only-child th {\n",
       "        text-align: right;\n",
       "    }\n",
       "\n",
       "    .dataframe thead th {\n",
       "        text-align: left;\n",
       "    }\n",
       "\n",
       "    .dataframe tbody tr th {\n",
       "        vertical-align: top;\n",
       "    }\n",
       "</style>\n",
       "<table border=\"1\" class=\"dataframe\">\n",
       "  <thead>\n",
       "    <tr style=\"text-align: right;\">\n",
       "      <th></th>\n",
       "      <th>Count</th>\n",
       "    </tr>\n",
       "    <tr>\n",
       "      <th>date</th>\n",
       "      <th></th>\n",
       "    </tr>\n",
       "  </thead>\n",
       "  <tbody>\n",
       "    <tr>\n",
       "      <th>2012-10-16</th>\n",
       "      <td>1143</td>\n",
       "    </tr>\n",
       "    <tr>\n",
       "      <th>2011-11-25</th>\n",
       "      <td>1088</td>\n",
       "    </tr>\n",
       "    <tr>\n",
       "      <th>2011-11-28</th>\n",
       "      <td>1070</td>\n",
       "    </tr>\n",
       "    <tr>\n",
       "      <th>2012-09-06</th>\n",
       "      <td>1018</td>\n",
       "    </tr>\n",
       "    <tr>\n",
       "      <th>2012-08-06</th>\n",
       "      <td>989</td>\n",
       "    </tr>\n",
       "    <tr>\n",
       "      <th>2011-12-07</th>\n",
       "      <td>978</td>\n",
       "    </tr>\n",
       "    <tr>\n",
       "      <th>2012-10-18</th>\n",
       "      <td>915</td>\n",
       "    </tr>\n",
       "    <tr>\n",
       "      <th>2012-04-19</th>\n",
       "      <td>906</td>\n",
       "    </tr>\n",
       "    <tr>\n",
       "      <th>2012-09-07</th>\n",
       "      <td>901</td>\n",
       "    </tr>\n",
       "    <tr>\n",
       "      <th>2012-03-22</th>\n",
       "      <td>898</td>\n",
       "    </tr>\n",
       "  </tbody>\n",
       "</table>\n",
       "</div>"
      ],
      "text/plain": [
       "            Count\n",
       "date             \n",
       "2012-10-16   1143\n",
       "2011-11-25   1088\n",
       "2011-11-28   1070\n",
       "2012-09-06   1018\n",
       "2012-08-06    989\n",
       "2011-12-07    978\n",
       "2012-10-18    915\n",
       "2012-04-19    906\n",
       "2012-09-07    901\n",
       "2012-03-22    898"
      ]
     },
     "execution_count": 15,
     "metadata": {},
     "output_type": "execute_result"
    }
   ],
   "source": [
    "date_counts.sort_values('Count', ascending=False).head(10)"
   ]
  },
  {
   "cell_type": "code",
   "execution_count": 16,
   "metadata": {},
   "outputs": [
    {
     "data": {
      "text/plain": [
       "[<matplotlib.lines.Line2D at 0x7fd32f964990>]"
      ]
     },
     "execution_count": 16,
     "metadata": {},
     "output_type": "execute_result"
    },
    {
     "data": {
      "image/png": "[encoded data removed]",
      "text/plain": [
       "<matplotlib.figure.Figure at 0x7fd31fae07d0>"
      ]
     },
     "metadata": {},
     "output_type": "display_data"
    }
   ],
   "source": [
    "plt.plot(date_counts)"
   ]
  },
  {
   "cell_type": "markdown",
   "metadata": {},
   "source": [
    "We can see that the number of reviews have increased over the time, with __2012__ showing substancial growth. <br>\n",
    "The year __2007__ is the one where we can actually start seeing some spikes, seems like Amazon must have had some really cool strategy to acquire customers that year, and since then there has been no stopping it!"
   ]
  },
  {
   "cell_type": "markdown",
   "metadata": {},
   "source": [
    "** Q. Which review was found to be most helpful? ** <br>\n",
    "** Q. List down the top 10 reviews sorted by helfulness of the review in the descending order. ** <br>"
   ]
  },
  {
   "cell_type": "markdown",
   "metadata": {},
   "source": [
    "Will postpone this for now!"
   ]
  },
  {
   "cell_type": "markdown",
   "metadata": {},
   "source": [
    "Rating/Score distribution"
   ]
  },
  {
   "cell_type": "code",
   "execution_count": 17,
   "metadata": {},
   "outputs": [
    {
     "data": {
      "text/plain": [
       "<matplotlib.axes._subplots.AxesSubplot at 0x7fd32f95a2d0>"
      ]
     },
     "execution_count": 17,
     "metadata": {},
     "output_type": "execute_result"
    },
    {
     "data": {
      "image/png": "[encoded data removed]",
      "text/plain": [
       "<matplotlib.figure.Figure at 0x7fd34174fb90>"
      ]
     },
     "metadata": {},
     "output_type": "display_data"
    }
   ],
   "source": [
    "sns.countplot('Score', data=df)"
   ]
  },
  {
   "cell_type": "code",
   "execution_count": 18,
   "metadata": {},
   "outputs": [
    {
     "data": {
      "text/plain": [
       "([<matplotlib.axis.XTick at 0x7fd32f605850>,\n",
       "  <matplotlib.axis.XTick at 0x7fd32f51bc10>,\n",
       "  <matplotlib.axis.XTick at 0x7fd32f5a3dd0>,\n",
       "  <matplotlib.axis.XTick at 0x7fd32f481610>,\n",
       "  <matplotlib.axis.XTick at 0x7fd32f481d50>],\n",
       " <a list of 5 Text xticklabel objects>)"
      ]
     },
     "execution_count": 18,
     "metadata": {},
     "output_type": "execute_result"
    },
    {
     "data": {
      "image/png": "[encoded data removed]",
      "text/plain": [
       "<matplotlib.figure.Figure at 0x7fd32f5a3c10>"
      ]
     },
     "metadata": {},
     "output_type": "display_data"
    }
   ],
   "source": [
    "plt.hist(df['Score'], bins=5)\n",
    "plt.xticks(range(1,6))"
   ]
  },
  {
   "cell_type": "code",
   "execution_count": 19,
   "metadata": {},
   "outputs": [
    {
     "name": "stdout",
     "output_type": "stream",
     "text": [
      "Almost '53.45 %' of the reviews have no ratings given!\n"
     ]
    }
   ],
   "source": [
    "print \"Almost '{:.2f} %' of the reviews have no ratings given!\".format(df['HN'].value_counts()[0]*100./len(df['HN']))"
   ]
  },
  {
   "cell_type": "code",
   "execution_count": 20,
   "metadata": {
    "collapsed": true
   },
   "outputs": [],
   "source": [
    "# highly helpful HN > 50\n",
    "# moderately helpful HN = 1-50\n",
    "# unhelpful HN = 0\n",
    "helpfulness_fn = lambda x: 'High' if x >= 50 else ('Moderate' if x > 0 and x < 50 else 'Not helpful')"
   ]
  },
  {
   "cell_type": "code",
   "execution_count": 21,
   "metadata": {
    "collapsed": true
   },
   "outputs": [],
   "source": [
    "df['Helpfullness'] = df.HN.apply(helpfulness_fn)"
   ]
  },
  {
   "cell_type": "code",
   "execution_count": 22,
   "metadata": {},
   "outputs": [
    {
     "data": {
      "text/plain": [
       "Not helpful    303826\n",
       "Moderate       263333\n",
       "High             1295\n",
       "Name: Helpfullness, dtype: int64"
      ]
     },
     "execution_count": 22,
     "metadata": {},
     "output_type": "execute_result"
    }
   ],
   "source": [
    "df['Helpfullness'].value_counts()"
   ]
  },
  {
   "cell_type": "code",
   "execution_count": 23,
   "metadata": {
    "scrolled": true
   },
   "outputs": [
    {
     "data": {
      "text/plain": [
       "<matplotlib.axes._subplots.AxesSubplot at 0x7fd32f506e50>"
      ]
     },
     "execution_count": 23,
     "metadata": {},
     "output_type": "execute_result"
    },
    {
     "data": {
      "image/png": "[encoded data removed]",
      "text/plain": [
       "<matplotlib.figure.Figure at 0x7fd32f5a3d10>"
      ]
     },
     "metadata": {},
     "output_type": "display_data"
    }
   ],
   "source": [
    "sns.countplot(y='Helpfullness', data=df)"
   ]
  },
  {
   "cell_type": "markdown",
   "metadata": {},
   "source": [
    "Since the scale in the plot is very high, let's numerically find out how many reviews got a __high(>50), moderate(>0, <50) and not useful(0)__ helpfulness values."
   ]
  },
  {
   "cell_type": "code",
   "execution_count": 24,
   "metadata": {},
   "outputs": [
    {
     "data": {
      "text/plain": [
       "Not helpful    303826\n",
       "Moderate       263333\n",
       "High             1295\n",
       "Name: Helpfullness, dtype: int64"
      ]
     },
     "execution_count": 24,
     "metadata": {},
     "output_type": "execute_result"
    }
   ],
   "source": [
    "df.Helpfullness.value_counts()"
   ]
  },
  {
   "cell_type": "code",
   "execution_count": 25,
   "metadata": {
    "collapsed": true
   },
   "outputs": [],
   "source": [
    "helpfullness_percentage = lambda x: (x['HN']*100.)/x['HD'] if x['HD'] != 0 else 0"
   ]
  },
  {
   "cell_type": "code",
   "execution_count": 26,
   "metadata": {
    "collapsed": true
   },
   "outputs": [],
   "source": [
    "df['helpfullness_percent'] = df.apply(helpfullness_percentage, axis=1)"
   ]
  },
  {
   "cell_type": "code",
   "execution_count": 27,
   "metadata": {
    "scrolled": false
   },
   "outputs": [
    {
     "data": {
      "text/plain": [
       "<matplotlib.axes._subplots.AxesSubplot at 0x7fd32f3d0910>"
      ]
     },
     "execution_count": 27,
     "metadata": {},
     "output_type": "execute_result"
    },
    {
     "data": {
      "image/png": "[encoded data removed]",
      "text/plain": [
       "<matplotlib.figure.Figure at 0x7fd32f5492d0>"
      ]
     },
     "metadata": {},
     "output_type": "display_data"
    }
   ],
   "source": [
    "sns.countplot(x='Score', hue='Helpfullness', data=df)"
   ]
  },
  {
   "cell_type": "code",
   "execution_count": 28,
   "metadata": {},
   "outputs": [
    {
     "data": {
      "text/plain": [
       "<matplotlib.axes._subplots.AxesSubplot at 0x7fd32f4439d0>"
      ]
     },
     "execution_count": 28,
     "metadata": {},
     "output_type": "execute_result"
    },
    {
     "data": {
      "image/png": "[encoded data removed]",
      "text/plain": [
       "<matplotlib.figure.Figure at 0x7fd32f4d9e10>"
      ]
     },
     "metadata": {},
     "output_type": "display_data"
    }
   ],
   "source": [
    "sns.countplot(x='Helpfullness', hue='Score', data=df)"
   ]
  },
  {
   "cell_type": "code",
   "execution_count": 29,
   "metadata": {},
   "outputs": [
    {
     "data": {
      "text/plain": [
       "5    791\n",
       "1    169\n",
       "3    113\n",
       "4    108\n",
       "2     72\n",
       "Name: Score, dtype: int64"
      ]
     },
     "execution_count": 29,
     "metadata": {},
     "output_type": "execute_result"
    }
   ],
   "source": [
    "df[df['HN'] > 50]['Score'].value_counts()"
   ]
  },
  {
   "cell_type": "code",
   "execution_count": 30,
   "metadata": {
    "collapsed": true
   },
   "outputs": [],
   "source": [
    "word_counter = lambda x: len(x.split())\n",
    "df['word_count'] = df.Text.apply(word_counter)"
   ]
  },
  {
   "cell_type": "code",
   "execution_count": 49,
   "metadata": {
    "collapsed": true
   },
   "outputs": [],
   "source": [
    "review_helpfulness_fn = lambda x: '>= 75' if x >= 75 \\\n",
    "                                          else ('25-75' \\\n",
    "                                                if x >= 25 and x < 75 else ('0-25' if x > 0 else '0'))"
   ]
  },
  {
   "cell_type": "code",
   "execution_count": 50,
   "metadata": {
    "collapsed": true
   },
   "outputs": [],
   "source": [
    "df['review_helpfullness'] = df.helpfullness_percent.apply(review_helpfulness_fn)"
   ]
  },
  {
   "cell_type": "code",
   "execution_count": 51,
   "metadata": {},
   "outputs": [
    {
     "data": {
      "text/plain": [
       "<matplotlib.axes._subplots.AxesSubplot at 0x7fd313f91e10>"
      ]
     },
     "execution_count": 51,
     "metadata": {},
     "output_type": "execute_result"
    },
    {
     "data": {
      "image/png": "[encoded data removed]",
      "text/plain": [
       "<matplotlib.figure.Figure at 0x7fd32f046690>"
      ]
     },
     "metadata": {},
     "output_type": "display_data"
    }
   ],
   "source": [
    "sns.countplot(data=df, x='review_helpfullness')"
   ]
  },
  {
   "cell_type": "code",
   "execution_count": 53,
   "metadata": {},
   "outputs": [
    {
     "data": {
      "text/plain": [
       "<matplotlib.axes._subplots.AxesSubplot at 0x7fd313a488d0>"
      ]
     },
     "execution_count": 53,
     "metadata": {},
     "output_type": "execute_result"
    },
    {
     "data": {
      "image/png": "[encoded data removed]",
      "text/plain": [
       "<matplotlib.figure.Figure at 0x7fd31359ff10>"
      ]
     },
     "metadata": {},
     "output_type": "display_data"
    }
   ],
   "source": [
    "sns.countplot(data=df, x='Score', hue='review_helpfullness')"
   ]
  },
  {
   "cell_type": "code",
   "execution_count": 91,
   "metadata": {},
   "outputs": [
    {
     "data": {
      "text/plain": [
       "<matplotlib.axes._subplots.AxesSubplot at 0x7fd2e6443b10>"
      ]
     },
     "execution_count": 91,
     "metadata": {},
     "output_type": "execute_result"
    },
    {
     "data": {
      "image/png": "[encoded data removed]",
      "text/plain": [
       "<matplotlib.figure.Figure at 0x7fd2e6f209d0>"
      ]
     },
     "metadata": {},
     "output_type": "display_data"
    }
   ],
   "source": [
    "sns.boxplot(data=df, x='Score', y='word_count', fliersize=3., linewidth=1., )"
   ]
  },
  {
   "cell_type": "code",
   "execution_count": 90,
   "metadata": {},
   "outputs": [
    {
     "data": {
      "text/plain": [
       "(0.0, 500.0)"
      ]
     },
     "execution_count": 90,
     "metadata": {},
     "output_type": "execute_result"
    },
    {
     "data": {
      "image/png": "[encoded data removed]",
      "text/plain": [
       "<matplotlib.figure.Figure at 0x7fd2e70b2d10>"
      ]
     },
     "metadata": {},
     "output_type": "display_data"
    }
   ],
   "source": [
    "sns.boxplot(data=df, x='Score', y='word_count', fliersize=3., linewidth=1., )\n",
    "plt.ylim(0., 500.)"
   ]
  },
  {
   "cell_type": "code",
   "execution_count": 89,
   "metadata": {},
   "outputs": [
    {
     "data": {
      "text/plain": [
       "(0.0, 500.0)"
      ]
     },
     "execution_count": 89,
     "metadata": {},
     "output_type": "execute_result"
    },
    {
     "data": {
      "image/png": "[encoded data removed]",
      "text/plain": [
       "<matplotlib.figure.Figure at 0x7fd2e8142750>"
      ]
     },
     "metadata": {},
     "output_type": "display_data"
    }
   ],
   "source": [
    "sns.violinplot(y='word_count', x='review_helpfullness', data=df)\n",
    "plt.ylim(0., 500.)"
   ]
  }
 ],
 "metadata": {
  "kernelspec": {
   "display_name": "Python 2",
   "language": "python",
   "name": "python2"
  },
  "language_info": {
   "codemirror_mode": {
    "name": "ipython",
    "version": 2
   },
   "file_extension": ".py",
   "mimetype": "text/x-python",
   "name": "python",
   "nbconvert_exporter": "python",
   "pygments_lexer": "ipython2",
   "version": "2.7.13"
  }
 },
 "nbformat": 4,
 "nbformat_minor": 2
}
